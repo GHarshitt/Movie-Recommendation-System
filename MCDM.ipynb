{
  "nbformat": 4,
  "nbformat_minor": 0,
  "metadata": {
    "colab": {
      "name": "MCDM.ipynb",
      "provenance": [],
      "collapsed_sections": []
    },
    "kernelspec": {
      "name": "python3",
      "display_name": "Python 3"
    }
  },
  "cells": [
    {
      "cell_type": "code",
      "metadata": {
        "colab": {
          "base_uri": "https://localhost:8080/"
        },
        "id": "DIh_LkO2of5q",
        "outputId": "b3fd27a4-cf83-4ba6-e50a-fc12d7f7f436"
      },
      "source": [
        "from google.colab import drive\n",
        "drive.mount('/content/drive')"
      ],
      "execution_count": null,
      "outputs": [
        {
          "output_type": "stream",
          "text": [
            "Mounted at /content/drive\n"
          ],
          "name": "stdout"
        }
      ]
    },
    {
      "cell_type": "code",
      "metadata": {
        "colab": {
          "base_uri": "https://localhost:8080/"
        },
        "id": "s5yv1YEqsCuo",
        "outputId": "215e2d6e-cc29-4604-faba-e67bd7020e17"
      },
      "source": [
        "import pandas as pd\n",
        "import numpy as np\n",
        "from sklearn.feature_extraction.text import CountVectorizer\n",
        "from sklearn.metrics.pairwise import cosine_similarity\n",
        "\n",
        "def get_title_from_index(index):\n",
        "\treturn df[df.index == index][\"title\"].values[0]\n",
        "\n",
        "def get_index_from_title(title):\n",
        "\treturn df[df.title == title][\"index\"].values[0]\n",
        "\n",
        "\n",
        "##Step 1: Read CSV File\n",
        "df = pd.read_csv('/content/drive/My Drive/movie_dataset.csv',header=None)\n",
        "#print df.columns\n",
        "##Step 2: Select Features\n",
        "df.columns = ['index','budget','genres','homepage','id','keywords','original_language','original_title','overview','popularity','production_companies','production_countries','release_date','revenue','runtime','spoken_languages','status','tagline','title','vote_average','vote_count','cast','crew','director']\n",
        "features = ['keywords','cast','genres','director']\n",
        "##Step 3: Create a column in DF which combines all selected features\n",
        "\n",
        "for feature in features:\n",
        "  df[feature] = df[feature].fillna('')\n",
        "\n",
        "def combine_features(row):\n",
        "\ttry:\n",
        "\t\treturn row['keywords'] +\" \"+row['cast']+\" \"+row[\"genres\"]+\" \"+row[\"director\"]\n",
        "\texcept:\n",
        "\t\tprint(\"Error:\"), row\t\n",
        "\n",
        "df[\"combined_features\"] = df.apply(combine_features,axis=1)\n",
        "\n",
        "#print \"Combined Features:\", df[\"combined_features\"].head()\n",
        "\n",
        "##Step 4: Create count matrix from this new combined column\n",
        "cv = CountVectorizer()\n",
        "\n",
        "count_matrix = cv.fit_transform(df[\"combined_features\"])\n",
        "\n",
        "##Step 5: Compute the Cosine Similarity based on the count_matrix\n",
        "cosine_sim = cosine_similarity(count_matrix) \n",
        "movie_user_likes = \"Avatar\"\n",
        "\n",
        "## Step 6: Get index of this movie from its title\n",
        "movie_index = get_index_from_title(movie_user_likes)\n",
        "\n",
        "similar_movies =  list(enumerate(cosine_sim[int(movie_index)]))\n",
        "\n",
        "## Step 7: Get a list of similar movies in descending order of similarity score\n",
        "sorted_similar_movies = sorted(similar_movies,key=lambda x:x[1],reverse=True)\n",
        "\n",
        "## Step 8: Print titles of first 50 movies\n",
        "i=0\n",
        "for element in sorted_similar_movies:\n",
        "\t\tprint(get_title_from_index(element[0]))\n",
        "\t\ti=i+1\n",
        "\t\tif i>50:\n",
        "\t\t  break"
      ],
      "execution_count": null,
      "outputs": [
        {
          "output_type": "stream",
          "text": [
            "title\n",
            "Gory Gory Hallelujah\n",
            "Movie 43\n",
            "Sisters in Law\n",
            "The Trials Of Darryl Hunt\n",
            "Butterfly Girl\n",
            "Antarctic Edge: 70° South\n",
            "Censored Voices\n",
            "Top Spin\n",
            "Proud\n",
            "Windsor Drive\n",
            "The In Crowd\n",
            "Wuthering Heights\n",
            "Plush\n",
            "16 to Life\n",
            "The Young Unknowns\n",
            "Born to Fly: Elizabeth Streb vs. Gravity\n",
            "Old Joy\n",
            "Archaeology of a Woman\n",
            "Katy Perry: Part of Me\n",
            "A Tale of Three Cities\n",
            "The Secret Life of Bees\n",
            "Copying Beethoven\n",
            "The Greatest\n",
            "Song One\n",
            "Zipper\n",
            "Adore\n",
            "Inescapable\n",
            "Go for It!\n",
            "Yes\n",
            "Blue Car\n",
            "Deceptive Practice: The Mysteries and Mentors of Ricky Jay\n",
            "Tupac: Resurrection\n",
            "Sugar Town\n",
            "Middle of Nowhere\n",
            "H.\n",
            "Indie Game: The Movie\n",
            "The Intern\n",
            "How to Deal\n",
            "The Caveman's Valentine\n",
            "Morvern Callar\n",
            "Without Men\n",
            "Phat Girlz\n",
            "Kama Sutra - A Tale of Love\n",
            "Thirteen Conversations About One Thing\n",
            "Fort McCoy\n",
            "Tanner Hall\n",
            "There's Always Woodstock\n",
            "Frozen River\n",
            "Walter\n",
            "Civil Brand\n"
          ],
          "name": "stdout"
        }
      ]
    },
    {
      "cell_type": "code",
      "metadata": {
        "id": "hXPYb02rwPjz"
      },
      "source": [
        ""
      ],
      "execution_count": null,
      "outputs": []
    }
  ]
}